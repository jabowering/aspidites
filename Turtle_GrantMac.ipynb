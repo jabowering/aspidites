{
 "metadata": {
  "name": "",
  "signature": "sha256:026085d2dbe6624323107a76209e6eaf74f9be859800f1b8cee0eb30e13b9b76"
 },
 "nbformat": 3,
 "nbformat_minor": 0,
 "worksheets": [
  {
   "cells": [
    {
     "cell_type": "code",
     "collapsed": false,
     "input": [
      "from NewTurtle import Turtle\n",
      "t = Turtle();\n",
      "t.speed(\"fast\");\n",
      "t.backward(100);\n",
      "t.right(90);\n",
      "t.forward(100);\n",
      "t.left(90);t.forward(100);t.left(90);t.forward(50);t.left(90);t.forward(50);t.penup();t.backward(100);t.right(90);t.backward(50);\n",
      "t.pendown();t.pencolor(\"red\");t.forward(100);t.left(45);t.backward(75);t.right(90);t.forward(75);t.left(45);t.backward(100);t.right(90);\n",
      "t.penup();t.home();t.right(90);t.forward(100); t.right(90);t.forward(100);t.left(90);t.forward(10);t.left(90);t.pendown();t.pencolor(\"purple\");\n",
      "t.forward(260);"
     ],
     "language": "python",
     "metadata": {},
     "outputs": [
      {
       "output_type": "stream",
       "stream": "stdout",
       "text": [
        "TURTLE 1 black 200 200 0 1\n",
        "TURTLE 1 black 100.0 200.0 0 2\n",
        "TURTLE 1 black 100.0 200.0 90 2\n",
        "TURTLE 1 black 100.0 300.0 0 2\n",
        "TURTLE 1 black 100.0 300.0 -90 2\n",
        "TURTLE 1 black 200.0 300.0 0 2\n",
        "TURTLE 1 black 200.0 300.0 -90 2\n",
        "TURTLE 1 black 200.0 250.0 0 2\n",
        "TURTLE 1 black 200.0 250.0 -90 2\n",
        "TURTLE 1 black 150.0 250.0 0 2\n",
        "TURTLE 0 black 250.0 250.0 0 2\n",
        "TURTLE 0 black 250.0 250.0 90 2\n",
        "TURTLE 0 black 250.0 300.0 0 2\n",
        "TURTLE 1 red 250.0 200.0 0 2\n",
        "TURTLE 1 red 250.0 200.0 -45 2\n",
        "TURTLE 1 red 303.033008589 253.033008589 0 2\n",
        "TURTLE 1 red 303.033008589 253.033008589 90 2\n",
        "TURTLE 1 red 356.066017178 200.0 0 2\n",
        "TURTLE 1 red 356.066017178 200.0 -45 2\n",
        "TURTLE 1 red 356.066017178 300.0 0 2\n",
        "TURTLE 1 red 356.066017178 300.0 90 2\n",
        "TURTLE 0 red 200 200 0 2\n",
        "TURTLE 0 red 200 200 90 2\n",
        "TURTLE 0 red 200.0 300.0 0 2\n",
        "TURTLE 0 red 200.0 300.0 90 2\n",
        "TURTLE 0 red 100.0 300.0 0 2\n",
        "TURTLE 0 red 100.0 300.0 -90 2\n",
        "TURTLE 0 red 100.0 310.0 0 2\n",
        "TURTLE 0 red 100.0 310.0 -90 2\n",
        "TURTLE 1 purple 360.0 310.0 0 2\n"
       ]
      }
     ],
     "prompt_number": 8
    }
   ],
   "metadata": {}
  }
 ]
}