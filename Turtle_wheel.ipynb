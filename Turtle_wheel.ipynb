{
 "metadata": {
  "name": "",
  "signature": "sha256:447a28df917d8ae7c7f54dcf2a9fd42700107d5b489e9ea6ed481e5919dfbb68"
 },
 "nbformat": 3,
 "nbformat_minor": 0,
 "worksheets": [
  {
   "cells": [
    {
     "cell_type": "code",
     "collapsed": false,
     "input": [
      "from NewTurtle import Turtle\n",
      "t = Turtle();\n",
      "t.speed(\"fast\")\n",
      "colours=[\"red\",\"blue\",\"yellow\",\"brown\",\"black\",\"purple\",\"green\"]\n",
      "t.penup(); t.left(90); t.forward(200);t.right(90);t.pendown();\n",
      "for i in range (0,18):\n",
      "    t.pencolor(colours[i%7]);\n",
      "    t.right(20);\n",
      "    t.forward(50);"
     ],
     "language": "python",
     "metadata": {},
     "outputs": [
      {
       "output_type": "stream",
       "stream": "stdout",
       "text": [
        "TURTLE 1 black 200 200 0 1\n",
        "TURTLE 0 black 200 200 -90 2\n",
        "TURTLE 0 black 200.0 20 0 2\n",
        "TURTLE 0 black 200.0 20 90 2\n",
        "TURTLE 1 red 200.0 20 20 2\n",
        "TURTLE 1 red 246.984631039 37.1010071663 0 2\n",
        "TURTLE 1 blue 246.984631039 37.1010071663 20 2\n",
        "TURTLE 1 blue 285.286853195 69.2403876506 0 2\n",
        "TURTLE 1 yellow 285.286853195 69.2403876506 20 2\n",
        "TURTLE 1 yellow 310.286853195 112.54165784 0 2\n",
        "TURTLE 1 brown 310.286853195 112.54165784 20 2\n",
        "TURTLE 1 brown 318.969262079 161.78204549 0 2\n",
        "TURTLE 1 black 318.969262079 161.78204549 20 2\n",
        "TURTLE 1 black 310.286853195 211.022433141 0 2\n",
        "TURTLE 1 purple 310.286853195 211.022433141 20 2\n",
        "TURTLE 1 purple 285.286853195 254.32370333 0 2\n",
        "TURTLE 1 green 285.286853195 254.32370333 20 2\n",
        "TURTLE 1 green 246.984631039 286.463083815 0 2\n",
        "TURTLE 1 red 246.984631039 286.463083815 20 2\n",
        "TURTLE 1 red 200.0 303.564090981 0 2\n",
        "TURTLE 1 blue 200.0 303.564090981 20 2\n",
        "TURTLE 1 blue 150.0 303.564090981 0 2\n",
        "TURTLE 1 yellow 150.0 303.564090981 20 2\n",
        "TURTLE 1 yellow 103.015368961 286.463083815 0 2\n",
        "TURTLE 1 brown 103.015368961 286.463083815 20 2\n",
        "TURTLE 1 brown 64.7131468048 254.32370333 0 2\n",
        "TURTLE 1 black 64.7131468048 254.32370333 20 2\n",
        "TURTLE 1 black 39.7131468048 211.022433141 0 2\n",
        "TURTLE 1 purple 39.7131468048 211.022433141 20 2\n",
        "TURTLE 1 purple 31.0307379214 161.78204549 0 2\n",
        "TURTLE 1 green 31.0307379214 161.78204549 20 2\n",
        "TURTLE 1 green 39.7131468048 112.54165784 0 2\n",
        "TURTLE 1 red 39.7131468048 112.54165784 20 2\n",
        "TURTLE 1 red 64.7131468048 69.2403876506 0 2\n",
        "TURTLE 1 blue 64.7131468048 69.2403876506 20 2\n",
        "TURTLE 1 blue 103.015368961 37.1010071663 0 2\n",
        "TURTLE 1 yellow 103.015368961 37.1010071663 20 2\n",
        "TURTLE 1 yellow 150.0 20 0 2\n",
        "TURTLE 1 brown 150.0 20 20 2\n",
        "TURTLE 1 brown 200.0 20.0 0 2\n"
       ]
      }
     ],
     "prompt_number": 1
    }
   ],
   "metadata": {}
  }
 ]
}