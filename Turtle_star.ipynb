{
 "metadata": {
  "name": "",
  "signature": "sha256:f293a85bb3a69294487aaf799cef2ee0323d000b4850d915701768cd79e1d63d"
 },
 "nbformat": 3,
 "nbformat_minor": 0,
 "worksheets": [
  {
   "cells": [
    {
     "cell_type": "code",
     "collapsed": false,
     "input": [
      "from NewTurtle import Turtle\n",
      "t = Turtle();\n",
      "x = 5\n",
      "while x > 0:\n",
      "    t.pencolor(\"blue\");\n",
      "    t.forward(75);\n",
      "    t.right(144)\n",
      "    t.pencolor(\"gold\");\n",
      "    t.forward(40)\n",
      "    x-=1\n",
      "print \"test\"\n",
      "print \"hello\""
     ],
     "language": "python",
     "metadata": {},
     "outputs": [
      {
       "output_type": "stream",
       "stream": "stdout",
       "text": [
        "TURTLE 1 black 200 200 0 1\n",
        "TURTLE 1 blue 275.0 200.0 0 1\n",
        "TURTLE 1 blue 275.0 200.0 144 1\n",
        "TURTLE 1 gold 242.639320225 223.511410092 0 1\n",
        "TURTLE 1 blue 181.963045647 267.595304014 0 1\n",
        "TURTLE 1 blue 181.963045647 267.595304014 144 1\n",
        "TURTLE 1 gold 194.323725422 229.553043362 0 1\n",
        "TURTLE 1 blue 217.5 158.22380464 0 1\n",
        "TURTLE 1 blue 217.5 158.22380464 144 1\n",
        "TURTLE 1 gold 229.860679775 196.266065291 0 1\n",
        "TURTLE 1 blue 253.036954353 267.595304014 0 1\n",
        "TURTLE 1 blue 253.036954353 267.595304014 144 1\n",
        "TURTLE 1 gold 220.676274578 244.083893922 0 1\n",
        "TURTLE 1 blue 160.0 200.0 0 1\n",
        "TURTLE 1 blue 160.0 200.0 144 1\n",
        "TURTLE 1 gold 200.0 200.0 0 1\n",
        "test\n",
        "hello\n"
       ]
      }
     ],
     "prompt_number": 2
    },
    {
     "cell_type": "code",
     "collapsed": false,
     "input": [
      "print \"test\"from NewTurtle import Turtle\n",
      "t = Turtle()"
     ],
     "language": "python",
     "metadata": {},
     "outputs": [
      {
       "output_type": "stream",
       "stream": "stdout",
       "text": [
        "test\n"
       ]
      }
     ],
     "prompt_number": 12
    }
   ],
   "metadata": {}
  }
 ]
}